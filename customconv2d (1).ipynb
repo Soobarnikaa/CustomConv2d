{
  "nbformat": 4,
  "nbformat_minor": 0,
  "metadata": {
    "colab": {
      "provenance": []
    },
    "kernelspec": {
      "name": "python3",
      "display_name": "Python 3"
    },
    "language_info": {
      "name": "python"
    }
  },
  "cells": [
    {
      "cell_type": "code",
      "execution_count": 1,
      "metadata": {
        "id": "EUZxK33M-HPe"
      },
      "outputs": [],
      "source": [
        "import numpy as np"
      ]
    },
    {
      "cell_type": "code",
      "source": [
        "def conv2d(input, kernel, stride=1, padding=0):\n",
        "    if padding > 0:\n",
        "        input = np.pad(input, ((padding, padding), (padding, padding)), mode='constant')\n",
        "\n",
        "    input_height, input_width = input.shape\n",
        "    kernel_height, kernel_width = kernel.shape\n",
        "\n",
        "    output_height = (input_height - kernel_height) // stride + 1\n",
        "    output_width = (input_width - kernel_width) // stride + 1\n",
        "\n",
        "    output = np.zeros((output_height, output_width))\n",
        "\n",
        "    for i in range(output_height):\n",
        "        for j in range(output_width):\n",
        "            region = input[i*stride:i*stride+kernel_height, j*stride:j*stride+kernel_width]\n",
        "            output[i, j] = np.sum(region * kernel)\n",
        "\n",
        "    return output"
      ],
      "metadata": {
        "id": "aLGuZAim-IcK"
      },
      "execution_count": 2,
      "outputs": []
    },
    {
      "cell_type": "code",
      "source": [
        "if __name__ == \"__main__\":\n",
        "    input_image = np.array([[1, 2, 3], [4, 5, 6], [7, 8, 9]])\n",
        "    kernel = np.array([[1, 0], [0, -1]])\n",
        "    stride = 1\n",
        "    padding = 1\n",
        "\n",
        "    output_image = conv2d(input_image, kernel, stride, padding)\n",
        "    print(\"Output feature map:\\n\", output_image)"
      ],
      "metadata": {
        "colab": {
          "base_uri": "https://localhost:8080/"
        },
        "id": "s2u6b0qf-L99",
        "outputId": "1e705066-3fcf-43e2-fccb-80ba35782581"
      },
      "execution_count": 3,
      "outputs": [
        {
          "output_type": "stream",
          "name": "stdout",
          "text": [
            "Output feature map:\n",
            " [[-1. -2. -3.  0.]\n",
            " [-4. -4. -4.  3.]\n",
            " [-7. -4. -4.  6.]\n",
            " [ 0.  7.  8.  9.]]\n"
          ]
        }
      ]
    }
  ]
}