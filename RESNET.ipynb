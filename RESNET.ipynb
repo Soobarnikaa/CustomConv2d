{
  "nbformat": 4,
  "nbformat_minor": 0,
  "metadata": {
    "colab": {
      "provenance": []
    },
    "kernelspec": {
      "name": "python3",
      "display_name": "Python 3"
    },
    "language_info": {
      "name": "python"
    }
  },
  "cells": [
    {
      "cell_type": "code",
      "execution_count": 8,
      "metadata": {
        "id": "TDGCvhjof8f9"
      },
      "outputs": [],
      "source": [
        "import torch\n",
        "import torch.nn as nn\n",
        "import numpy as np\n",
        "from customconv2d import conv2d as custom_conv2d\n",
        "\n",
        "class CustomConv2d(nn.Module):\n",
        "    def __init__(self, in_channels, out_channels, kernel_size, stride=1, padding=0):\n",
        "        super(CustomConv2d, self).__init__()\n",
        "        self.in_channels = in_channels\n",
        "        self.out_channels = out_channels\n",
        "        self.kernel_size = kernel_size\n",
        "        self.stride = stride\n",
        "        self.padding = padding\n",
        "\n",
        "        self.weight = nn.Parameter(torch.randn(out_channels, in_channels, kernel_size, kernel_size))\n",
        "\n",
        "    def forward(self, x):\n",
        "        N, C, H, W = x.size()\n",
        "        kernel_size = self.kernel_size\n",
        "        stride = self.stride\n",
        "        padding = self.padding\n",
        "\n",
        "        output_height = (H + 2 * padding - kernel_size) // stride + 1\n",
        "        output_width = (W + 2 * padding - kernel_size) // stride + 1\n",
        "        output = torch.zeros((N, self.out_channels, output_height, output_width), device=x.device)\n",
        "\n",
        "        for i in range(N):\n",
        "            for j in range(self.out_channels):\n",
        "                for k in range(C):\n",
        "                    output[i, j] += torch.tensor(\n",
        "                        custom_conv2d(\n",
        "                            x[i, k].cpu().numpy(),\n",
        "                            self.weight[j, k].cpu().numpy(),\n",
        "                            stride=stride,\n",
        "                            padding=padding\n",
        "                        ),\n",
        "                        device=x.device\n",
        "                    )\n",
        "\n",
        "        return output"
      ]
    },
    {
      "cell_type": "code",
      "source": [
        "import torch\n",
        "import torch.nn as nn\n",
        "import torch.nn.functional as F\n",
        "\n",
        "class BasicBlock(nn.Module):\n",
        "    def __init__(self, in_channels, out_channels, stride=1, downsample=None):\n",
        "        super(BasicBlock, self).__init__()\n",
        "        self.conv1 = CustomConv2d(in_channels, out_channels, kernel_size=3, stride=stride, padding=1)\n",
        "        self.bn1 = nn.BatchNorm2d(out_channels)\n",
        "        self.relu = nn.ReLU(inplace=True)\n",
        "        self.conv2 = CustomConv2d(out_channels, out_channels, kernel_size=3, padding=1)\n",
        "        self.bn2 = nn.BatchNorm2d(out_channels)\n",
        "        self.downsample = downsample\n",
        "\n",
        "    def forward(self, x):\n",
        "        identity = x\n",
        "        if self.downsample is not None:\n",
        "            identity = self.downsample(x)\n",
        "\n",
        "        out = self.conv1(x)\n",
        "        out = self.bn1(out)\n",
        "        out = self.relu(out)\n",
        "        out = self.conv2(out)\n",
        "        out = self.bn2(out)\n",
        "        out += identity\n",
        "        out = self.relu(out)\n",
        "\n",
        "        return out\n",
        "\n",
        "class SimpleResNet(nn.Module):\n",
        "    def __init__(self, num_classes=10):\n",
        "        super(SimpleResNet, self).__init__()\n",
        "        self.in_channels = 64\n",
        "        self.conv1 = CustomConv2d(3, 64, kernel_size=7, padding=3)\n",
        "        self.bn1 = nn.BatchNorm2d(64)\n",
        "        self.relu = nn.ReLU(inplace=True)\n",
        "        self.maxpool = nn.MaxPool2d(kernel_size=3, stride=2, padding=1)\n",
        "        self.layer1 = self._make_layer(64, 64, 2)\n",
        "        self.avgpool = nn.AdaptiveAvgPool2d((1, 1))\n",
        "        self.fc = nn.Linear(64, num_classes)\n",
        "\n",
        "    def _make_layer(self, in_channels, out_channels, blocks):\n",
        "        layers = []\n",
        "        for _ in range(blocks):\n",
        "            layers.append(BasicBlock(in_channels, out_channels))\n",
        "        return nn.Sequential(*layers)\n",
        "\n",
        "    def forward(self, x):\n",
        "        x = self.conv1(x)\n",
        "        x = self.bn1(x)\n",
        "        x = self.relu(x)\n",
        "        x = self.maxpool(x)\n",
        "        x = self.layer1(x)\n",
        "        x = self.avgpool(x)\n",
        "        x = torch.flatten(x, 1)\n",
        "        x = self.fc(x)\n",
        "        return x"
      ],
      "metadata": {
        "id": "G-ZdMloyiIwp"
      },
      "execution_count": 9,
      "outputs": []
    },
    {
      "cell_type": "code",
      "source": [
        "import torch\n",
        "model = SimpleResNet(num_classes=10)\n",
        "input_tensor = torch.randn(1, 3, 224, 224)\n",
        "\n",
        "model.eval()\n",
        "with torch.no_grad():\n",
        "    output = model(input_tensor)\n",
        "\n",
        "print(\"Model output shape:\", output.shape)"
      ],
      "metadata": {
        "colab": {
          "base_uri": "https://localhost:8080/"
        },
        "id": "ZormDPDjpnL_",
        "outputId": "82e470b3-3225-49ae-f143-76cff4e5a541"
      },
      "execution_count": 11,
      "outputs": [
        {
          "output_type": "stream",
          "name": "stdout",
          "text": [
            "Model output shape: torch.Size([1, 10])\n"
          ]
        }
      ]
    }
  ]
}