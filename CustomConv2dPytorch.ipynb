{
  "nbformat": 4,
  "nbformat_minor": 0,
  "metadata": {
    "colab": {
      "provenance": []
    },
    "kernelspec": {
      "name": "python3",
      "display_name": "Python 3"
    },
    "language_info": {
      "name": "python"
    }
  },
  "cells": [
    {
      "cell_type": "code",
      "source": [
        "import torch\n",
        "import customconv2d"
      ],
      "metadata": {
        "id": "rVAWiRT_2RaN"
      },
      "execution_count": 5,
      "outputs": []
    },
    {
      "cell_type": "code",
      "source": [
        "input_image = torch.tensor([[1.0, 2.0, 3.0], [4.0, 5.0, 6.0], [7.0, 8.0, 9.0]], dtype=torch.float32)\n",
        "kernel = torch.tensor([[1.0, 0.0], [0.0, -1.0]], dtype=torch.float32)\n",
        "\n",
        "input_image_pytorch = input_image.unsqueeze(0).unsqueeze(0)\n",
        "kernel_pytorch = kernel.unsqueeze(0).unsqueeze(0)"
      ],
      "metadata": {
        "id": "jmpGuxwY2aB0"
      },
      "execution_count": 6,
      "outputs": []
    },
    {
      "cell_type": "code",
      "source": [
        "output_custom = customconv2d.conv2d(input_image.numpy(), kernel.numpy(), stride=1, padding=1)\n",
        "output_custom_torch = torch.tensor(output_custom, dtype=torch.float32)"
      ],
      "metadata": {
        "id": "5_RndMW52f2I"
      },
      "execution_count": 10,
      "outputs": []
    },
    {
      "cell_type": "code",
      "source": [
        "print(\"Output from custom conv2d:\\n\", output_custom_torch.numpy())"
      ],
      "metadata": {
        "colab": {
          "base_uri": "https://localhost:8080/"
        },
        "id": "GWrU27xG6ywT",
        "outputId": "dfaa5be9-2c7f-486d-bf7e-03c3b896bccd"
      },
      "execution_count": 13,
      "outputs": [
        {
          "output_type": "stream",
          "name": "stdout",
          "text": [
            "Output from custom conv2d:\n",
            " [[-1. -2. -3.  0.]\n",
            " [-4. -4. -4.  3.]\n",
            " [-7. -4. -4.  6.]\n",
            " [ 0.  7.  8.  9.]]\n"
          ]
        }
      ]
    }
  ]
}